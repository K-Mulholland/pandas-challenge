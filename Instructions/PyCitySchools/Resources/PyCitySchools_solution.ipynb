{
 "cells": [
  {
   "cell_type": "markdown",
   "metadata": {},
   "source": [
    "### Note\n",
    "* Instructions have been included for each segment. You do not have to follow them exactly, but they are included to help you think through the steps."
   ]
  },
  {
   "cell_type": "code",
   "execution_count": null,
   "metadata": {},
   "outputs": [],
   "source": [
    "# Dependencies and Setup\n",
    "import pandas as pd\n",
    "\n",
    "# File to Load\n",
    "schools_complete = \"Resources/schools_complete.csv\"\n",
    "students_complete = \"Resources/students_complete.csv\"\n",
    "\n",
    "# Read School and Student Data File and store into Pandas Data Frames\n",
    "school_data = pd.read_csv(schools_complete)\n",
    "student_data = pd.read_csv(students_complete)\n",
    "\n",
    "# Combine the data into a single dataset\n",
    "school_data_complete = pd.merge(student_data, school_data, how=\"left\", on=[\"school_name\", \"school_name\"])\n",
    "school_data_complete"
   ]
  },
  {
   "cell_type": "markdown",
   "metadata": {},
   "source": [
    "## District Summary\n",
    "\n",
    "* Calculate the total number of schools\n",
    "\n",
    "* Calculate the total number of students\n",
    "\n",
    "* Calculate the total budget\n",
    "\n",
    "* Calculate the average math score \n",
    "\n",
    "* Calculate the average reading score\n",
    "\n",
    "* Calculate the percentage of students with a passing math score (70 or greater)\n",
    "\n",
    "* Calculate the percentage of students with a passing reading score (70 or greater)\n",
    "\n",
    "* Calculate the percentage of students who passed math **and** reading (% Overall Passing)\n",
    "\n",
    "* Create a dataframe to hold the above results\n",
    "\n",
    "* Optional: give the displayed data cleaner formatting"
   ]
  },
  {
   "cell_type": "code",
   "execution_count": null,
   "metadata": {},
   "outputs": [],
   "source": [
    "#calculate the total number of schools\n",
    "total_number_schools = len(school_data_complete[\"School ID\"].unique())\n",
    "total_number_schools\n",
    "\n",
    "print('total_number_schools')\n"
   ]
  },
  {
   "cell_type": "code",
   "execution_count": null,
   "metadata": {},
   "outputs": [],
   "source": [
    "#calculate total students\n",
    "total_number_students = len(school_data_complete[\"Student ID\"].unique())\n",
    "total_number_students"
   ]
  },
  {
   "cell_type": "code",
   "execution_count": null,
   "metadata": {},
   "outputs": [],
   "source": [
    "#calculate total budget\n",
    "total_budget = school_data[\"budget\"].sum()\n",
    "total_budget"
   ]
  },
  {
   "cell_type": "code",
   "execution_count": null,
   "metadata": {},
   "outputs": [],
   "source": [
    "#calculate average math score\n",
    "average_math_score = student_data[\"math_score\"].mean()\n",
    "average_math_score"
   ]
  },
  {
   "cell_type": "code",
   "execution_count": null,
   "metadata": {},
   "outputs": [],
   "source": [
    "#calculate average reading score\n",
    "average_reading_score = student_data[\"reading_score\"].mean()\n",
    "average_reading_score"
   ]
  },
  {
   "cell_type": "code",
   "execution_count": null,
   "metadata": {},
   "outputs": [],
   "source": [
    "#percent passing math\n",
    "student_data[\"#passing_math\"] = student_data[\"math_score\"] >= 70\n",
    "student_data[\"#passing_reading\"] = student_data[\"reading_score\"] >= 70\n",
    "percent_passing_math = ((student_data[\"#passing_math\"]).mean())*100\n",
    "percent_passing_math"
   ]
  },
  {
   "cell_type": "code",
   "execution_count": null,
   "metadata": {},
   "outputs": [],
   "source": [
    "#percent passing reading\n",
    "percent_passing_reading = ((student_data[\"#passing_reading\"]).mean())*100\n",
    "percent_passing_reading"
   ]
  },
  {
   "cell_type": "code",
   "execution_count": null,
   "metadata": {},
   "outputs": [],
   "source": [
    "#overall passing (BOTH math AND reading)\n",
    "overall_average_score = (average_math_score + average_reading_score)/2\n",
    "overall_average_score"
   ]
  },
  {
   "cell_type": "code",
   "execution_count": null,
   "metadata": {},
   "outputs": [],
   "source": [
    "#create a dataframe to hold the results\n",
    "district_results = [{\"Total Schools\": total_number_schools, \n",
    "            \"Total Students\": total_number_students, \n",
    "            \"Total Budget\": total_budget, \n",
    "            \"Average Math Score\":  round(average_math_score,2), \n",
    "            \"Average Reading Score\":  round(average_reading_score,2), \n",
    "           \"% Passing Math\": round(percent_passing_math,2),\n",
    "           \"% Passing Reading\": round(percent_passing_reading,2),\n",
    "            \"% Overall Passing Rate\": round(overall_passing_rate,2)}]\n",
    "district_summary_table = pd.DataFrame(district_results)"
   ]
  },
  {
   "cell_type": "code",
   "execution_count": null,
   "metadata": {},
   "outputs": [],
   "source": [
    "#format dataframe\n",
    "district_summary_table[\"% Passing Math\"] = district_summary_table[\"% Passing Math\"].map(\"{:,.2f}%\".format)\n",
    "district_summary_table[\"% Passing Reading\"] = district_summary_table[\"% Passing Reading\"].map(\"{:,.2f}%\".format)\n",
    "district_summary_table[\"% Overall Passing Rate\"] = district_summary_table[\"% Overall Passing Rate\"].map(\"{:,.2f}%\".format)\n",
    "district_summary_table[\"Total Budget\"] = district_summary_table[\"Total Budget\"].map(\"${:,.2f}\".format)\n",
    "district_summary_table[\"Total Students\"] = district_summary_table[\"Total Students\"].map(\"{:,}\".format)\n",
    "\n",
    "#display dataframe\n",
    "district_summary_table"
   ]
  },
  {
   "cell_type": "markdown",
   "metadata": {},
   "source": [
    "## School Summary"
   ]
  },
  {
   "cell_type": "markdown",
   "metadata": {},
   "source": [
    "* Create an overview table that summarizes key metrics about each school, including:\n",
    "  * School Name\n",
    "  * School Type\n",
    "  * Total Students\n",
    "  * Total School Budget\n",
    "  * Per Student Budget\n",
    "  * Average Math Score\n",
    "  * Average Reading Score\n",
    "  * % Passing Math\n",
    "  * % Passing Reading\n",
    "  * % Overall Passing (The percentage of students that passed math **and** reading.)\n",
    "  \n",
    "* Create a dataframe to hold the above results"
   ]
  },
  {
   "cell_type": "code",
   "execution_count": null,
   "metadata": {},
   "outputs": [],
   "source": [
    "#create an overview table that summarizes school_data_complete\n",
    "\n",
    "school_data_complete[\"passing_math\"] = school_data_complete[\"math_score\"] >= 70\n",
    "school_data_complete[\"passing_reading\"] = school_data_complete[\"reading_score\"] >= 70\n",
    "\n",
    "school_data_complete"
   ]
  },
  {
   "cell_type": "code",
   "execution_count": null,
   "metadata": {},
   "outputs": [],
   "source": [
    "# Use groupby by school_name\n",
    "\n",
    "school_group = school_data_complete.groupby([\"school_name\"]).mean()\n",
    "school_group[\"Per Student Budget\"] = school_group[\"budget\"]/school_group[\"size\"]\n",
    "school_group[\"% Passing Math\"] = round(school_group[\"passing_math\"]*100,2)\n",
    "school_group[\"% Passing Reading\"] = round(school_group[\"passing_reading\"]*100,2)\n",
    "school_group[\"% Overall Passing Rate\"] = round(((school_group[\"passing_math\"] + school_group[\"passing_reading\"])/2)*100,3)\n",
    "\n",
    "#Merge with school_data to collect information about the type, size and budget\n",
    "school_data_summary = pd.merge(school_group, school_data, how=\"left\", on=[\"school_name\", \"school_name\"])\n",
    "del school_data_summary['size_y']\n",
    "del school_data_summary['budget_y']\n",
    "del school_data_summary['Student ID']\n",
    "del school_data_summary['School ID_x']\n",
    "\n",
    "#Create a dataframe to store the results\n",
    "school_summary_dataframe = pd.DataFrame({\"School Name\":  school_data_summary[\"school_name\"],\n",
    "                                \"School Type\": school_data_summary[\"type\"],\n",
    "                               \"Total Students\":school_data_summary[\"size_x\"],\n",
    "                               \"Total School Budget\": school_data_summary[\"budget_x\"],\n",
    "                               \"Per Student Budget\":school_data_summary[\"Per Student Budget\"], \n",
    "                               \"Average Math Score\":round(school_data_summary[\"math_score\"],2),\n",
    "                               \"Average Reading Score\":round(school_data_summary[\"reading_score\"],2), \n",
    "                               \"% Passing Math\": school_data_summary[\"% Passing Math\"],\n",
    "                               \"% Passing Reading\": school_data_summary[\"% Passing Reading\"],\n",
    "                               \"% Overall Passing Rate\": school_data_summary[\"% Overall Passing Rate\"]}) \n",
    "\n",
    "#Formatting\n",
    "school_summary_dataframe[\"Total Students\"] = school_summary_dataframe[\"Total Students\"].map(\"{:,.0f}\".format)\n",
    "school_summary_dataframe[\"Total School Budget\"] = school_summary_dataframe[\"Total School Budget\"].map(\"${:,.2f}\".format)\n",
    "school_summary_dataframe[\"Per Student Budget\"] = school_summary_dataframe[\"Per Student Budget\"].map(\"${:,.2f}\".format)\n",
    "#Display\n",
    "school_summary_dataframe"
   ]
  },
  {
   "cell_type": "markdown",
   "metadata": {},
   "source": [
    "## Top Performing Schools (By % Overall Passing)"
   ]
  },
  {
   "cell_type": "markdown",
   "metadata": {},
   "source": [
    "* Sort and display the top five performing schools by % overall passing."
   ]
  },
  {
   "cell_type": "code",
   "execution_count": null,
   "metadata": {
    "scrolled": true
   },
   "outputs": [],
   "source": [
    "#Sort and display the top five schools in overall passing rate\n",
    "\n",
    "top_five_schools = school_summary_dataframe.sort_values([\"% Overall Passing Rate\"], ascending=False)\n",
    "top_five_schools.head()"
   ]
  },
  {
   "cell_type": "markdown",
   "metadata": {},
   "source": [
    "## Bottom Performing Schools (By % Overall Passing)"
   ]
  },
  {
   "cell_type": "markdown",
   "metadata": {},
   "source": [
    "* Sort and display the five worst-performing schools by % overall passing."
   ]
  },
  {
   "cell_type": "code",
   "execution_count": null,
   "metadata": {},
   "outputs": [],
   "source": [
    "#Sort and display the five worst-performing schools\n",
    "\n",
    "bottom_five_schools = school_summary_dataframe.sort_values([\"% Overall Passing Rate\"], ascending=True)\n",
    "bottom_five_schools.head()"
   ]
  },
  {
   "cell_type": "markdown",
   "metadata": {
    "collapsed": true
   },
   "source": [
    "## Math Scores by Grade"
   ]
  },
  {
   "cell_type": "markdown",
   "metadata": {},
   "source": [
    "* Create a table that lists the average Reading Score for students of each grade level (9th, 10th, 11th, 12th) at each school.\n",
    "\n",
    "  * Create a pandas series for each grade. Hint: use a conditional statement.\n",
    "  \n",
    "  * Group each series by school\n",
    "  \n",
    "  * Combine the series into a dataframe\n",
    "  \n",
    "  * Optional: give the displayed data cleaner formatting"
   ]
  },
  {
   "cell_type": "code",
   "execution_count": null,
   "metadata": {},
   "outputs": [],
   "source": [
    "\n",
    "#Create a pandas series for each grade. Group each series by school.\n",
    "\n",
    "ninth_grade=  school_data_complete[school_data_complete[\"grade\"] == \"9th\"].groupby(\"school_name\").mean()[\"math_score\"]\n",
    "tenth_grade =  school_data_complete[school_data_complete[\"grade\"] == \"10th\"].groupby(\"school_name\").mean()[\"math_score\"]\n",
    "eleventh_grade =  school_data_complete[school_data_complete[\"grade\"] == \"11th\"].groupby(\"school_name\").mean()[\"math_score\"]\n",
    "twelfth_grade=  school_data_complete[school_data_complete[\"grade\"] == \"12th\"].groupby(\"school_name\").mean()[\"math_score\"]\n",
    "\n",
    "#Combine the series into a dataframe\n",
    "math_grade_dataframe = pd.DataFrame({\"Ninth Grade\":nineth_grade, \"Tenth Grade\":tenth_grade, \n",
    "                                     \"Eleventh Grade\":eleventh_grade, \"Twelfth Grade\":twelveth_grade})            \n",
    "\n",
    "#Cleaner formatting\n",
    "\n",
    "math_grade_dataframe[[\"Ninth Grade\",\"Tenth Grade\",\"Eleventh Grade\",\"Twelfth Grade\"]] = math_grade_dataframe[[\"Ninth Grade\",\"Tenth Grade\",\"Eleventh Grade\",\"Twelveth Grade\"]].applymap(\"{:.2f}\".format)\n",
    "\n",
    "#Display\n",
    "\n",
    "math_grade_dataframe"
   ]
  },
  {
   "cell_type": "markdown",
   "metadata": {},
   "source": [
    "## Reading Score by Grade "
   ]
  },
  {
   "cell_type": "markdown",
   "metadata": {},
   "source": [
    "* Perform the same operations as above for reading scores"
   ]
  },
  {
   "cell_type": "code",
   "execution_count": null,
   "metadata": {},
   "outputs": [],
   "source": [
    "#Perform the same operations as above for reading scores\n",
    "#Create a pandas series for each grade. Group each series by school.\n",
    "\n",
    "ninth_grade=  school_data_complete[school_data_complete[\"grade\"] == \"9th\"].groupby(\"school_name\").mean()[\"reading_score\"]\n",
    "tenth_grade =  school_data_complete[school_data_complete[\"grade\"] == \"10th\"].groupby(\"school_name\").mean()[\"reading_score\"]\n",
    "eleventh_grade =  school_data_complete[school_data_complete[\"grade\"] == \"11th\"].groupby(\"school_name\").mean()[\"reading_score\"]\n",
    "twelfth_grade=  school_data_complete[school_data_complete[\"grade\"] == \"12th\"].groupby(\"school_name\").mean()[\"reading_score\"]\n",
    "\n",
    "#Combine the series into a dataframe\n",
    "reading_grade_dataframe = pd.DataFrame({\"Ninth Grade\":nineth_grade, \"Tenth Grade\":tenth_grade, \n",
    "                                     \"Eleventh Grade\":eleventh_grade, \"Twelfth Grade\":twelveth_grade})            \n",
    "\n",
    "#Cleaner formatting\n",
    "\n",
    "reading_grade_dataframe[[\"Ninth Grade\",\"Tenth Grade\",\"Eleventh Grade\",\"Twelfth Grade\"]] = reading_grade_dataframe[[\"Ninth Grade\",\"Tenth Grade\",\"Eleventh Grade\",\"Twelveth Grade\"]].applymap(\"{:.2f}\".format)\n",
    "\n",
    "#Display\n",
    "\n",
    "reading_grade_dataframe"
   ]
  },
  {
   "cell_type": "markdown",
   "metadata": {},
   "source": [
    "## Scores by School Spending"
   ]
  },
  {
   "cell_type": "markdown",
   "metadata": {},
   "source": [
    "* Create a table that breaks down school performances based on average Spending Ranges (Per Student). Use 4 reasonable bins to group school spending. Include in the table each of the following:\n",
    "  * Average Math Score\n",
    "  * Average Reading Score\n",
    "  * % Passing Math\n",
    "  * % Passing Reading\n",
    "  * Overall Passing Rate (Average of the above two)"
   ]
  },
  {
   "cell_type": "code",
   "execution_count": null,
   "metadata": {},
   "outputs": [],
   "source": [
    "# Use 4 bins\n",
    "spending_bins = [0, 585, 615, 645, 675]\n",
    "group_names = [\"<$585\", \"$585-615\", \"$615-645\", \"$645-675\"]\n",
    "\n",
    "# Use 4 reasonable bins to group school spending. \n",
    "school_data_summary[\"Spending Ranges (Per Student)\"] = pd.cut(school_data_summary[\"Per Student Budget\"], spending_bins, labels=group_names)\n",
    "\n",
    "school_spending_grouped = school_data_summary.groupby(\"Spending Ranges (Per Student)\").mean() \n",
    "\n",
    "#Column formatting\n",
    "del school_spending_grouped['size_x']\n",
    "del school_spending_grouped['budget_x']\n",
    "del school_spending_grouped['Per Student Budget']\n",
    "del school_spending_grouped['School ID_y']\n",
    "del school_spending_grouped['passing_math']\n",
    "del school_spending_grouped['passing_reading']\n",
    "\n",
    "school_spending_grouped"
   ]
  },
  {
   "cell_type": "markdown",
   "metadata": {},
   "source": [
    "## Scores by School Size"
   ]
  },
  {
   "cell_type": "markdown",
   "metadata": {},
   "source": [
    "* Perform the same operations as above, based on school size."
   ]
  },
  {
   "cell_type": "code",
   "execution_count": null,
   "metadata": {
    "scrolled": true
   },
   "outputs": [],
   "source": [
    "# 4 bins\n",
    "size_bins = [0, 1000, 2000, 5000]\n",
    "group_names = [\"Small (<1000)\", \"Medium (1000-2000)\", \"Large (2000-5000)\"]\n",
    "\n",
    "# Use 4 reasonable bins to group school size \n",
    "school_data_summary[\"School Size\"] = pd.cut(school_data_summary[\"size_x\"], size_bins, labels=group_names)\n",
    "school_data_summary\n",
    "\n",
    "#group by size_x\n",
    "school_size_grouped = school_data_summary.groupby(\"School Size\").mean() \n",
    "school_size_grouped\n",
    "\n",
    "#Remove the unwanted columns as per the sample provided\n",
    "#del school_size_grouped['size_x']\n",
    "del school_size_grouped['budget_x']\n",
    "del school_size_grouped['Per Student Budget']\n",
    "del school_size_grouped['School ID_y']\n",
    "del school_size_grouped['passing_math']\n",
    "del school_size_grouped['passing_reading']\n",
    "\n",
    "#Display\n",
    "school_size_grouped"
   ]
  },
  {
   "cell_type": "markdown",
   "metadata": {},
   "source": [
    "## Scores by School Type"
   ]
  },
  {
   "cell_type": "markdown",
   "metadata": {},
   "source": [
    "* Perform the same operations as above, based on school type"
   ]
  },
  {
   "cell_type": "code",
   "execution_count": null,
   "metadata": {},
   "outputs": [],
   "source": [
    "school_type_grouped = school_data_summary.groupby(\"type\").mean()\n",
    "\n",
    "#Column formatting\n",
    "del school_type_grouped['size_x']\n",
    "del school_type_grouped['budget_x']\n",
    "del school_type_grouped['Per Student Budget']\n",
    "del school_type_grouped['School ID_y']\n",
    "del school_type_grouped['passing_math']\n",
    "del school_type_grouped['passing_reading']\n",
    "\n",
    "school_type_grouped"
   ]
  },
  {
   "cell_type": "code",
   "execution_count": null,
   "metadata": {},
   "outputs": [],
   "source": []
  }
 ],
 "metadata": {
  "anaconda-cloud": {},
  "kernel_info": {
   "name": "python3"
  },
  "kernelspec": {
   "display_name": "Python 3 (ipykernel)",
   "language": "python",
   "name": "python3"
  },
  "language_info": {
   "codemirror_mode": {
    "name": "ipython",
    "version": 3
   },
   "file_extension": ".py",
   "mimetype": "text/x-python",
   "name": "python",
   "nbconvert_exporter": "python",
   "pygments_lexer": "ipython3",
   "version": "3.8.9"
  },
  "latex_envs": {
   "LaTeX_envs_menu_present": true,
   "autoclose": false,
   "autocomplete": true,
   "bibliofile": "biblio.bib",
   "cite_by": "apalike",
   "current_citInitial": 1,
   "eqLabelWithNumbers": true,
   "eqNumInitial": 1,
   "hotkeys": {
    "equation": "Ctrl-E",
    "itemize": "Ctrl-I"
   },
   "labels_anchors": false,
   "latex_user_defs": false,
   "report_style_numbering": false,
   "user_envs_cfg": false
  },
  "nteract": {
   "version": "0.8.4"
  },
  "vscode": {
   "interpreter": {
    "hash": "31f2aee4e71d21fbe5cf8b01ff0e069b9275f58929596ceb00d14d90e3e16cd6"
   }
  }
 },
 "nbformat": 4,
 "nbformat_minor": 1
}
